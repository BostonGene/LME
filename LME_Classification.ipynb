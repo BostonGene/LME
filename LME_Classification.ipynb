{
 "cells": [
  {
   "cell_type": "markdown",
   "metadata": {},
   "source": [
    "The presented notebook is a tool designed for analyzing and classifying B-cell lymphomas, specifically those belonging to the DLBCL. \n",
    "\n",
    "**Data preparation:**\n",
    "\n",
    "1. A reference cohort along with its annotation file. A PCA analysis plot of the reference cohort is shown to confirm that there are no batch effects present in the data.\n",
    "2. A sample gene expression matrix where the required type of data is RNA-Seq \n",
    "3. Gene signature file located in the Datasets folder.\n",
    "\n",
    "**Quality check:**\n",
    "\n",
    "Next, the sample gene expression matrix is log2 transformed. A quality check (QC) is performed to ensure that the data is suitable for analysis and free from any issues that may impact the accuracy of the downstream analysis.\n",
    "\n",
    "**Classification:**\n",
    "\n",
    "Creation of KNN model based on the reference cohort. Calculation of ssGSEA scores with sample gene expression and gene signatures. Classification is performed by sample ssGSEA scores and KNN model based on the reference cohort."
   ]
  },
  {
   "cell_type": "markdown",
   "metadata": {
    "tags": []
   },
   "source": [
    "# Import of Python base packages"
   ]
  },
  {
   "cell_type": "code",
   "execution_count": 2,
   "metadata": {
    "tags": []
   },
   "outputs": [],
   "source": [
    "%load_ext autoreload\n",
    "%autoreload 2\n",
    "%matplotlib inline\n",
    "%config IPCompleter.use_jedi = False\n",
    "import matplotlib.pyplot as plt\n",
    "import copy\n",
    "import sys\n",
    "import os\n",
    "import pandas as pd\n",
    "import numpy as np\n",
    "import seaborn as sns\n",
    "from IPython.display import display\n",
    "from pathlib import Path"
   ]
  },
  {
   "cell_type": "code",
   "execution_count": 3,
   "metadata": {
    "tags": []
   },
   "outputs": [],
   "source": [
    "%config InlineBackend.figure_format = 'png'\n",
    "plt.rcParams['pdf.fonttype'] = 'truetype'\n",
    "plt.rcParams['svg.fonttype'] = 'none'\n",
    "plt.rcParams['figure.dpi'] = 120\n",
    "sns.set_style('white')"
   ]
  },
  {
   "cell_type": "code",
   "execution_count": 4,
   "metadata": {
    "tags": []
   },
   "outputs": [],
   "source": [
    "import warnings\n",
    "warnings.filterwarnings(\"ignore\")"
   ]
  },
  {
   "cell_type": "code",
   "execution_count": 5,
   "metadata": {
    "tags": []
   },
   "outputs": [],
   "source": [
    "from lme.utils import *\n",
    "from lme.plotting import *\n",
    "from lme.classification import *\n",
    "from lme.pathway_scoring import *"
   ]
  },
  {
   "cell_type": "markdown",
   "metadata": {},
   "source": [
    "Constants"
   ]
  },
  {
   "cell_type": "code",
   "execution_count": 6,
   "metadata": {},
   "outputs": [],
   "source": [
    "REFERENCE_COHORT_ANNOTATION = 'datasets/pan_cohort_annotation.tsv'\n",
    "REFERENCE_COHORT_EXPRESSION = 'datasets/pan_cohort_signatures.tsv.gz'\n",
    "GENE_SIGNATURES = 'databases/signatures.gmt'"
   ]
  },
  {
   "cell_type": "markdown",
   "metadata": {},
   "source": [
    "To run all of the analyses for your data change the SAMPLE_EXPRESSION and SAMPLE_ANNOTATION values correspondingly to your gene expression and expression annotation file paths and on the left corner of the notebook chose the run section and click the run all cells button."
   ]
  },
  {
   "cell_type": "markdown",
   "metadata": {},
   "source": [
    "\n",
    "\n",
    "\n",
    "Insert the path to your expression matrix and its annotation in corresponding variables:\n",
    "\n",
    "SAMPLE_EXPRESSION\n",
    "\n",
    "SAMPLE_ANNOTATION\n"
   ]
  },
  {
   "cell_type": "code",
   "execution_count": 7,
   "metadata": {
    "tags": []
   },
   "outputs": [],
   "source": [
    "SAMPLE_EXPRESSION = 'datasets/GSE56313/expressions.tsv.gz'\n",
    "SAMPLE_ANNOTATION = 'datasets/GSE56313/annotation.tsv'"
   ]
  },
  {
   "cell_type": "markdown",
   "metadata": {
    "tags": []
   },
   "source": [
    "## Set Palette"
   ]
  },
  {
   "cell_type": "markdown",
   "metadata": {
    "tags": []
   },
   "source": [
    "Color palette for DLBCL GCB and ABC subtypes."
   ]
  },
  {
   "cell_type": "code",
   "execution_count": 8,
   "metadata": {
    "scrolled": true,
    "tags": []
   },
   "outputs": [],
   "source": [
    "dlbcl_subtype_p = {'ABC': '#A630B5', 'GCB': '#E7A949', 'UNC': '#AAAAAA'}"
   ]
  },
  {
   "cell_type": "markdown",
   "metadata": {
    "tags": []
   },
   "source": [
    "Color pallete of colors for different lymphoma types: Burrkits Lymphoma, Follicular Lymphoma, Diffuse large B-cell lymphoma."
   ]
  },
  {
   "cell_type": "code",
   "execution_count": 9,
   "metadata": {
    "scrolled": true,
    "tags": []
   },
   "outputs": [],
   "source": [
    "diagnosis_p = {'Burkitt_Lymphoma': '#BB3556',\n",
    "         'Diffuse_Large_B_Cell_Lymphoma': '#AAAAAA',\n",
    "         'Follicular_Lymphoma': '#44D8D1'}"
   ]
  },
  {
   "cell_type": "markdown",
   "metadata": {
    "tags": []
   },
   "source": [
    "Shorten names for each lymphoma type mentioned above."
   ]
  },
  {
   "cell_type": "code",
   "execution_count": 10,
   "metadata": {
    "scrolled": true,
    "tags": []
   },
   "outputs": [],
   "source": [
    "diagnosis_shortener = {'Diffuse_Large_B_Cell_Lymphoma': 'DLBCL', 'Follicular_Lymphoma': 'FL',\n",
    "               'Burkitt_Lymphoma': 'BL'}"
   ]
  },
  {
   "cell_type": "code",
   "execution_count": 11,
   "metadata": {
    "scrolled": true,
    "tags": []
   },
   "outputs": [],
   "source": [
    "diagnosis_rn_p = {'BL': '#BB3556',\n",
    "         'DLBCL': '#AAAAAA',\n",
    "         'FL': '#44D8D1'}"
   ]
  },
  {
   "cell_type": "markdown",
   "metadata": {
    "tags": []
   },
   "source": [
    "Color pallete for high and low values."
   ]
  },
  {
   "cell_type": "code",
   "execution_count": 12,
   "metadata": {
    "scrolled": true,
    "tags": []
   },
   "outputs": [],
   "source": [
    "high_low_p = {'High': '#E04000', \n",
    "              'Low': '#90C0F0'}\n",
    "high_low_o = ['High', 'Low']\n",
    "high_low_map = {True:'High',\n",
    "                False: 'Low'}"
   ]
  },
  {
   "cell_type": "markdown",
   "metadata": {
    "tags": []
   },
   "source": [
    "Color pallete for DHIT sig positive and negative conditions."
   ]
  },
  {
   "cell_type": "code",
   "execution_count": 13,
   "metadata": {
    "scrolled": true,
    "tags": []
   },
   "outputs": [],
   "source": [
    "dhit_p = {'DHITsig-neg': dlbcl_subtype_p['GCB'], 'DHITsig-pos': '#b40426', 'ABC': dlbcl_subtype_p['ABC']}"
   ]
  },
  {
   "cell_type": "markdown",
   "metadata": {
    "tags": []
   },
   "source": [
    "Generate color palette for LME subtypes."
   ]
  },
  {
   "cell_type": "code",
   "execution_count": 14,
   "metadata": {
    "scrolled": true,
    "tags": []
   },
   "outputs": [],
   "source": [
    "lme_o = ['LME-GC', 'LME-ME', 'LME-IN', 'LME-DE', ]\n",
    "lme_p = {\n",
    "            'LME-GC': '#2980B9',\n",
    "            'LME-ME': '#9B59B6', \n",
    "            'LME-IN': '#1ABC9C', \n",
    "            'LME-DE': '#E74C3C',}"
   ]
  },
  {
   "cell_type": "markdown",
   "metadata": {
    "tags": []
   },
   "source": [
    "Create a list of the signaling pathway signatures."
   ]
  },
  {
   "cell_type": "code",
   "execution_count": 15,
   "metadata": {
    "tags": []
   },
   "outputs": [
    {
     "data": {
      "text/plain": [
       "3"
      ]
     },
     "execution_count": 15,
     "metadata": {},
     "output_type": "execute_result"
    }
   ],
   "source": [
    "progeny_selected = ['NFkB', 'p53', 'PI3K']\n",
    "len(progeny_selected)"
   ]
  },
  {
   "cell_type": "markdown",
   "metadata": {},
   "source": [
    "Create a list of selected/needed signatures for further calssification."
   ]
  },
  {
   "cell_type": "code",
   "execution_count": 16,
   "metadata": {
    "tags": []
   },
   "outputs": [
    {
     "data": {
      "text/plain": [
       "22"
      ]
     },
     "execution_count": 16,
     "metadata": {},
     "output_type": "execute_result"
    }
   ],
   "source": [
    "signatures_selected = [\n",
    " 'Lymphatic_endothelium',\n",
    " 'Angiogenesis',\n",
    " 'CAF',\n",
    " 'Fibroblastic_reticular_cells',\n",
    " 'Matrix',\n",
    " 'Matrix_remodeling',\n",
    " 'Granulocyte_traffic',\n",
    " 'Protumor_cytokines',\n",
    " 'Follicular_dendritic_cells',\n",
    " 'Macrophages',\n",
    " 'M1_signature',\n",
    " 'T_cell_traffic',\n",
    " 'MHCII',\n",
    " 'MHCI',\n",
    " 'Follicular_B_helper_T_cells',\n",
    " 'Treg',\n",
    " 'T_cells',\n",
    " 'Checkpoint_inhibition',\n",
    " 'NK_cells',\n",
    " 'B_cells_traffic',\n",
    " 'B_cells',\n",
    " 'Proliferation_rate']\n",
    "len(signatures_selected)"
   ]
  },
  {
   "cell_type": "markdown",
   "metadata": {
    "tags": []
   },
   "source": [
    "# Data preparation "
   ]
  },
  {
   "cell_type": "markdown",
   "metadata": {
    "tags": []
   },
   "source": [
    "## Load the reference cohort"
   ]
  },
  {
   "cell_type": "markdown",
   "metadata": {
    "tags": []
   },
   "source": [
    "Read reference cohort gene expressions"
   ]
  },
  {
   "cell_type": "code",
   "execution_count": 17,
   "metadata": {
    "tags": []
   },
   "outputs": [
    {
     "data": {
      "text/plain": [
       "(5116, 38)"
      ]
     },
     "execution_count": 17,
     "metadata": {},
     "output_type": "execute_result"
    }
   ],
   "source": [
    "cohort_signatures_scaled = read_dataset(REFERENCE_COHORT_EXPRESSION).T\n",
    "cohort_signatures_scaled.shape"
   ]
  },
  {
   "cell_type": "code",
   "execution_count": 18,
   "metadata": {
    "tags": []
   },
   "outputs": [
    {
     "data": {
      "text/html": [
       "<div>\n",
       "<style scoped>\n",
       "    .dataframe tbody tr th:only-of-type {\n",
       "        vertical-align: middle;\n",
       "    }\n",
       "\n",
       "    .dataframe tbody tr th {\n",
       "        vertical-align: top;\n",
       "    }\n",
       "\n",
       "    .dataframe thead th {\n",
       "        text-align: right;\n",
       "    }\n",
       "</style>\n",
       "<table border=\"1\" class=\"dataframe\">\n",
       "  <thead>\n",
       "    <tr style=\"text-align: right;\">\n",
       "      <th></th>\n",
       "      <th>EGFR</th>\n",
       "      <th>Hypoxia</th>\n",
       "      <th>JAK-STAT</th>\n",
       "      <th>MAPK</th>\n",
       "      <th>NFkB</th>\n",
       "      <th>PI3K</th>\n",
       "      <th>TGFb</th>\n",
       "      <th>TNFa</th>\n",
       "      <th>Trail</th>\n",
       "      <th>VEGF</th>\n",
       "      <th>...</th>\n",
       "      <th>B_cells_traffic</th>\n",
       "      <th>Follicular_B_helper_T_cells</th>\n",
       "      <th>Th1_signature</th>\n",
       "      <th>T_cells</th>\n",
       "      <th>Checkpoint_inhibition</th>\n",
       "      <th>MHCII</th>\n",
       "      <th>MHCI</th>\n",
       "      <th>NK_cells</th>\n",
       "      <th>B_cells</th>\n",
       "      <th>Proliferation_rate</th>\n",
       "    </tr>\n",
       "  </thead>\n",
       "  <tbody>\n",
       "    <tr>\n",
       "      <th>DLC0001</th>\n",
       "      <td>-1.100459</td>\n",
       "      <td>1.778296</td>\n",
       "      <td>-0.010550</td>\n",
       "      <td>0.370199</td>\n",
       "      <td>1.009720</td>\n",
       "      <td>-0.995537</td>\n",
       "      <td>0.312762</td>\n",
       "      <td>1.193305</td>\n",
       "      <td>0.933070</td>\n",
       "      <td>-1.007430</td>\n",
       "      <td>...</td>\n",
       "      <td>1.901869</td>\n",
       "      <td>4.907127</td>\n",
       "      <td>2.858243</td>\n",
       "      <td>1.984391</td>\n",
       "      <td>1.646320</td>\n",
       "      <td>0.214866</td>\n",
       "      <td>-0.519421</td>\n",
       "      <td>0.392673</td>\n",
       "      <td>0.138287</td>\n",
       "      <td>-2.709766</td>\n",
       "    </tr>\n",
       "    <tr>\n",
       "      <th>DLC0002</th>\n",
       "      <td>1.515182</td>\n",
       "      <td>2.768054</td>\n",
       "      <td>0.654394</td>\n",
       "      <td>2.370840</td>\n",
       "      <td>0.975191</td>\n",
       "      <td>-0.899303</td>\n",
       "      <td>1.767230</td>\n",
       "      <td>1.801683</td>\n",
       "      <td>1.415524</td>\n",
       "      <td>-1.277588</td>\n",
       "      <td>...</td>\n",
       "      <td>0.273988</td>\n",
       "      <td>-0.073384</td>\n",
       "      <td>-0.736010</td>\n",
       "      <td>0.176268</td>\n",
       "      <td>0.479735</td>\n",
       "      <td>-0.543240</td>\n",
       "      <td>-1.204911</td>\n",
       "      <td>0.021682</td>\n",
       "      <td>0.883285</td>\n",
       "      <td>0.618806</td>\n",
       "    </tr>\n",
       "    <tr>\n",
       "      <th>DLC0003</th>\n",
       "      <td>-0.855085</td>\n",
       "      <td>0.215444</td>\n",
       "      <td>2.023212</td>\n",
       "      <td>0.471082</td>\n",
       "      <td>1.987488</td>\n",
       "      <td>0.090416</td>\n",
       "      <td>-0.489591</td>\n",
       "      <td>0.438043</td>\n",
       "      <td>1.810002</td>\n",
       "      <td>-1.136433</td>\n",
       "      <td>...</td>\n",
       "      <td>-0.014866</td>\n",
       "      <td>1.135015</td>\n",
       "      <td>1.718405</td>\n",
       "      <td>2.099066</td>\n",
       "      <td>1.630966</td>\n",
       "      <td>0.098000</td>\n",
       "      <td>-1.170603</td>\n",
       "      <td>2.067505</td>\n",
       "      <td>-2.015865</td>\n",
       "      <td>-0.399773</td>\n",
       "    </tr>\n",
       "    <tr>\n",
       "      <th>DLC0004</th>\n",
       "      <td>1.170281</td>\n",
       "      <td>2.552209</td>\n",
       "      <td>1.924494</td>\n",
       "      <td>2.637014</td>\n",
       "      <td>1.168497</td>\n",
       "      <td>-2.202614</td>\n",
       "      <td>3.159769</td>\n",
       "      <td>1.717606</td>\n",
       "      <td>2.066829</td>\n",
       "      <td>-1.815582</td>\n",
       "      <td>...</td>\n",
       "      <td>-1.195651</td>\n",
       "      <td>0.289175</td>\n",
       "      <td>-0.450115</td>\n",
       "      <td>1.134542</td>\n",
       "      <td>-0.586538</td>\n",
       "      <td>0.067294</td>\n",
       "      <td>-0.608622</td>\n",
       "      <td>2.168512</td>\n",
       "      <td>-0.309114</td>\n",
       "      <td>-2.152889</td>\n",
       "    </tr>\n",
       "    <tr>\n",
       "      <th>DLC0005</th>\n",
       "      <td>-0.414280</td>\n",
       "      <td>0.536973</td>\n",
       "      <td>2.633446</td>\n",
       "      <td>0.993703</td>\n",
       "      <td>0.666727</td>\n",
       "      <td>-1.963422</td>\n",
       "      <td>1.470179</td>\n",
       "      <td>0.737218</td>\n",
       "      <td>2.252673</td>\n",
       "      <td>-1.626322</td>\n",
       "      <td>...</td>\n",
       "      <td>0.895766</td>\n",
       "      <td>3.279645</td>\n",
       "      <td>1.519968</td>\n",
       "      <td>1.882563</td>\n",
       "      <td>1.718104</td>\n",
       "      <td>0.507834</td>\n",
       "      <td>-0.551072</td>\n",
       "      <td>0.550601</td>\n",
       "      <td>0.164978</td>\n",
       "      <td>-1.908548</td>\n",
       "    </tr>\n",
       "  </tbody>\n",
       "</table>\n",
       "<p>5 rows × 38 columns</p>\n",
       "</div>"
      ],
      "text/plain": [
       "             EGFR   Hypoxia  JAK-STAT      MAPK      NFkB      PI3K      TGFb  \\\n",
       "DLC0001 -1.100459  1.778296 -0.010550  0.370199  1.009720 -0.995537  0.312762   \n",
       "DLC0002  1.515182  2.768054  0.654394  2.370840  0.975191 -0.899303  1.767230   \n",
       "DLC0003 -0.855085  0.215444  2.023212  0.471082  1.987488  0.090416 -0.489591   \n",
       "DLC0004  1.170281  2.552209  1.924494  2.637014  1.168497 -2.202614  3.159769   \n",
       "DLC0005 -0.414280  0.536973  2.633446  0.993703  0.666727 -1.963422  1.470179   \n",
       "\n",
       "             TNFa     Trail      VEGF  ...  B_cells_traffic  \\\n",
       "DLC0001  1.193305  0.933070 -1.007430  ...         1.901869   \n",
       "DLC0002  1.801683  1.415524 -1.277588  ...         0.273988   \n",
       "DLC0003  0.438043  1.810002 -1.136433  ...        -0.014866   \n",
       "DLC0004  1.717606  2.066829 -1.815582  ...        -1.195651   \n",
       "DLC0005  0.737218  2.252673 -1.626322  ...         0.895766   \n",
       "\n",
       "         Follicular_B_helper_T_cells  Th1_signature   T_cells  \\\n",
       "DLC0001                     4.907127       2.858243  1.984391   \n",
       "DLC0002                    -0.073384      -0.736010  0.176268   \n",
       "DLC0003                     1.135015       1.718405  2.099066   \n",
       "DLC0004                     0.289175      -0.450115  1.134542   \n",
       "DLC0005                     3.279645       1.519968  1.882563   \n",
       "\n",
       "         Checkpoint_inhibition     MHCII      MHCI  NK_cells   B_cells  \\\n",
       "DLC0001               1.646320  0.214866 -0.519421  0.392673  0.138287   \n",
       "DLC0002               0.479735 -0.543240 -1.204911  0.021682  0.883285   \n",
       "DLC0003               1.630966  0.098000 -1.170603  2.067505 -2.015865   \n",
       "DLC0004              -0.586538  0.067294 -0.608622  2.168512 -0.309114   \n",
       "DLC0005               1.718104  0.507834 -0.551072  0.550601  0.164978   \n",
       "\n",
       "         Proliferation_rate  \n",
       "DLC0001           -2.709766  \n",
       "DLC0002            0.618806  \n",
       "DLC0003           -0.399773  \n",
       "DLC0004           -2.152889  \n",
       "DLC0005           -1.908548  \n",
       "\n",
       "[5 rows x 38 columns]"
      ]
     },
     "execution_count": 18,
     "metadata": {},
     "output_type": "execute_result"
    }
   ],
   "source": [
    "cohort_signatures_scaled.head()"
   ]
  },
  {
   "cell_type": "markdown",
   "metadata": {
    "tags": []
   },
   "source": [
    "Read reference cohort annotation file"
   ]
  },
  {
   "cell_type": "code",
   "execution_count": 19,
   "metadata": {
    "tags": []
   },
   "outputs": [
    {
     "data": {
      "text/plain": [
       "(5116, 32)"
      ]
     },
     "execution_count": 19,
     "metadata": {},
     "output_type": "execute_result"
    }
   ],
   "source": [
    "cohort_ann = read_dataset(REFERENCE_COHORT_ANNOTATION)\n",
    "cohort_ann.shape"
   ]
  },
  {
   "cell_type": "code",
   "execution_count": 20,
   "metadata": {
    "scrolled": true,
    "tags": []
   },
   "outputs": [
    {
     "data": {
      "text/html": [
       "<div>\n",
       "<style scoped>\n",
       "    .dataframe tbody tr th:only-of-type {\n",
       "        vertical-align: middle;\n",
       "    }\n",
       "\n",
       "    .dataframe tbody tr th {\n",
       "        vertical-align: top;\n",
       "    }\n",
       "\n",
       "    .dataframe thead th {\n",
       "        text-align: right;\n",
       "    }\n",
       "</style>\n",
       "<table border=\"1\" class=\"dataframe\">\n",
       "  <thead>\n",
       "    <tr style=\"text-align: right;\">\n",
       "      <th></th>\n",
       "      <th>Cohort</th>\n",
       "      <th>Cohort_group</th>\n",
       "      <th>SORTN</th>\n",
       "      <th>COO_BG</th>\n",
       "      <th>COO_original</th>\n",
       "      <th>LME</th>\n",
       "      <th>DHITsig_predicted</th>\n",
       "      <th>DHITsig_original</th>\n",
       "      <th>Diagnosis</th>\n",
       "      <th>GenClass7</th>\n",
       "      <th>...</th>\n",
       "      <th>DLBCL90-Group</th>\n",
       "      <th>COO_RT</th>\n",
       "      <th>COO_Hans</th>\n",
       "      <th>Transformed_FL</th>\n",
       "      <th>series_ids</th>\n",
       "      <th>geo_accessions</th>\n",
       "      <th>dbGAP_id</th>\n",
       "      <th>ID1</th>\n",
       "      <th>ID2</th>\n",
       "      <th>platform_id</th>\n",
       "    </tr>\n",
       "    <tr>\n",
       "      <th>Sample</th>\n",
       "      <th></th>\n",
       "      <th></th>\n",
       "      <th></th>\n",
       "      <th></th>\n",
       "      <th></th>\n",
       "      <th></th>\n",
       "      <th></th>\n",
       "      <th></th>\n",
       "      <th></th>\n",
       "      <th></th>\n",
       "      <th></th>\n",
       "      <th></th>\n",
       "      <th></th>\n",
       "      <th></th>\n",
       "      <th></th>\n",
       "      <th></th>\n",
       "      <th></th>\n",
       "      <th></th>\n",
       "      <th></th>\n",
       "      <th></th>\n",
       "      <th></th>\n",
       "    </tr>\n",
       "  </thead>\n",
       "  <tbody>\n",
       "    <tr>\n",
       "      <th>GSM3302930</th>\n",
       "      <td>GSE117556</td>\n",
       "      <td>GSE117556</td>\n",
       "      <td>1</td>\n",
       "      <td>ABC</td>\n",
       "      <td>ABC</td>\n",
       "      <td>LME-ME</td>\n",
       "      <td>DHITsig-neg</td>\n",
       "      <td>NaN</td>\n",
       "      <td>Diffuse_Large_B_Cell_Lymphoma</td>\n",
       "      <td>NaN</td>\n",
       "      <td>...</td>\n",
       "      <td>NaN</td>\n",
       "      <td>NaN</td>\n",
       "      <td>NaN</td>\n",
       "      <td>NaN</td>\n",
       "      <td>GSE117556</td>\n",
       "      <td>GSM3302930</td>\n",
       "      <td>NaN</td>\n",
       "      <td>RMDB_1</td>\n",
       "      <td>NaN</td>\n",
       "      <td>GPL14951</td>\n",
       "    </tr>\n",
       "    <tr>\n",
       "      <th>GSM3302931</th>\n",
       "      <td>GSE117556</td>\n",
       "      <td>GSE117556</td>\n",
       "      <td>2</td>\n",
       "      <td>GCB</td>\n",
       "      <td>GCB</td>\n",
       "      <td>LME-GC</td>\n",
       "      <td>DHITsig-neg</td>\n",
       "      <td>NaN</td>\n",
       "      <td>Diffuse_Large_B_Cell_Lymphoma</td>\n",
       "      <td>NaN</td>\n",
       "      <td>...</td>\n",
       "      <td>NaN</td>\n",
       "      <td>NaN</td>\n",
       "      <td>NaN</td>\n",
       "      <td>NaN</td>\n",
       "      <td>GSE117556</td>\n",
       "      <td>GSM3302931</td>\n",
       "      <td>NaN</td>\n",
       "      <td>RMDB_2</td>\n",
       "      <td>NaN</td>\n",
       "      <td>GPL14951</td>\n",
       "    </tr>\n",
       "    <tr>\n",
       "      <th>GSM3302932</th>\n",
       "      <td>GSE117556</td>\n",
       "      <td>GSE117556</td>\n",
       "      <td>3</td>\n",
       "      <td>GCB</td>\n",
       "      <td>GCB</td>\n",
       "      <td>LME-GC</td>\n",
       "      <td>DHITsig-pos</td>\n",
       "      <td>NaN</td>\n",
       "      <td>Diffuse_Large_B_Cell_Lymphoma</td>\n",
       "      <td>NaN</td>\n",
       "      <td>...</td>\n",
       "      <td>NaN</td>\n",
       "      <td>NaN</td>\n",
       "      <td>NaN</td>\n",
       "      <td>NaN</td>\n",
       "      <td>GSE117556</td>\n",
       "      <td>GSM3302932</td>\n",
       "      <td>NaN</td>\n",
       "      <td>RMDB_3</td>\n",
       "      <td>NaN</td>\n",
       "      <td>GPL14951</td>\n",
       "    </tr>\n",
       "    <tr>\n",
       "      <th>GSM3302933</th>\n",
       "      <td>GSE117556</td>\n",
       "      <td>GSE117556</td>\n",
       "      <td>4</td>\n",
       "      <td>ABC</td>\n",
       "      <td>ABC</td>\n",
       "      <td>LME-DE</td>\n",
       "      <td>DHITsig-neg</td>\n",
       "      <td>NaN</td>\n",
       "      <td>Diffuse_Large_B_Cell_Lymphoma</td>\n",
       "      <td>NaN</td>\n",
       "      <td>...</td>\n",
       "      <td>NaN</td>\n",
       "      <td>NaN</td>\n",
       "      <td>NaN</td>\n",
       "      <td>NaN</td>\n",
       "      <td>GSE117556</td>\n",
       "      <td>GSM3302933</td>\n",
       "      <td>NaN</td>\n",
       "      <td>RMDB_4</td>\n",
       "      <td>NaN</td>\n",
       "      <td>GPL14951</td>\n",
       "    </tr>\n",
       "    <tr>\n",
       "      <th>GSM3302934</th>\n",
       "      <td>GSE117556</td>\n",
       "      <td>GSE117556</td>\n",
       "      <td>5</td>\n",
       "      <td>GCB</td>\n",
       "      <td>GCB</td>\n",
       "      <td>LME-ME</td>\n",
       "      <td>DHITsig-pos</td>\n",
       "      <td>NaN</td>\n",
       "      <td>Diffuse_Large_B_Cell_Lymphoma</td>\n",
       "      <td>NaN</td>\n",
       "      <td>...</td>\n",
       "      <td>NaN</td>\n",
       "      <td>NaN</td>\n",
       "      <td>NaN</td>\n",
       "      <td>NaN</td>\n",
       "      <td>GSE117556</td>\n",
       "      <td>GSM3302934</td>\n",
       "      <td>NaN</td>\n",
       "      <td>RMDB_5</td>\n",
       "      <td>NaN</td>\n",
       "      <td>GPL14951</td>\n",
       "    </tr>\n",
       "  </tbody>\n",
       "</table>\n",
       "<p>5 rows × 32 columns</p>\n",
       "</div>"
      ],
      "text/plain": [
       "               Cohort Cohort_group  SORTN COO_BG COO_original     LME  \\\n",
       "Sample                                                                  \n",
       "GSM3302930  GSE117556    GSE117556      1    ABC          ABC  LME-ME   \n",
       "GSM3302931  GSE117556    GSE117556      2    GCB          GCB  LME-GC   \n",
       "GSM3302932  GSE117556    GSE117556      3    GCB          GCB  LME-GC   \n",
       "GSM3302933  GSE117556    GSE117556      4    ABC          ABC  LME-DE   \n",
       "GSM3302934  GSE117556    GSE117556      5    GCB          GCB  LME-ME   \n",
       "\n",
       "           DHITsig_predicted DHITsig_original                      Diagnosis  \\\n",
       "Sample                                                                         \n",
       "GSM3302930       DHITsig-neg              NaN  Diffuse_Large_B_Cell_Lymphoma   \n",
       "GSM3302931       DHITsig-neg              NaN  Diffuse_Large_B_Cell_Lymphoma   \n",
       "GSM3302932       DHITsig-pos              NaN  Diffuse_Large_B_Cell_Lymphoma   \n",
       "GSM3302933       DHITsig-neg              NaN  Diffuse_Large_B_Cell_Lymphoma   \n",
       "GSM3302934       DHITsig-pos              NaN  Diffuse_Large_B_Cell_Lymphoma   \n",
       "\n",
       "           GenClass7  ... DLBCL90-Group  COO_RT  COO_Hans  Transformed_FL  \\\n",
       "Sample                ...                                                   \n",
       "GSM3302930       NaN  ...           NaN     NaN       NaN             NaN   \n",
       "GSM3302931       NaN  ...           NaN     NaN       NaN             NaN   \n",
       "GSM3302932       NaN  ...           NaN     NaN       NaN             NaN   \n",
       "GSM3302933       NaN  ...           NaN     NaN       NaN             NaN   \n",
       "GSM3302934       NaN  ...           NaN     NaN       NaN             NaN   \n",
       "\n",
       "            series_ids  geo_accessions  dbGAP_id     ID1  ID2 platform_id  \n",
       "Sample                                                                     \n",
       "GSM3302930   GSE117556      GSM3302930       NaN  RMDB_1  NaN    GPL14951  \n",
       "GSM3302931   GSE117556      GSM3302931       NaN  RMDB_2  NaN    GPL14951  \n",
       "GSM3302932   GSE117556      GSM3302932       NaN  RMDB_3  NaN    GPL14951  \n",
       "GSM3302933   GSE117556      GSM3302933       NaN  RMDB_4  NaN    GPL14951  \n",
       "GSM3302934   GSE117556      GSM3302934       NaN  RMDB_5  NaN    GPL14951  \n",
       "\n",
       "[5 rows x 32 columns]"
      ]
     },
     "execution_count": 20,
     "metadata": {},
     "output_type": "execute_result"
    }
   ],
   "source": [
    "cohort_ann.head()"
   ]
  },
  {
   "cell_type": "code",
   "execution_count": 21,
   "metadata": {
    "tags": []
   },
   "outputs": [
    {
     "data": {
      "text/plain": [
       "5116"
      ]
     },
     "execution_count": 21,
     "metadata": {},
     "output_type": "execute_result"
    }
   ],
   "source": [
    "len(cohort_signatures_scaled.index & cohort_ann.index)"
   ]
  },
  {
   "cell_type": "markdown",
   "metadata": {
    "tags": []
   },
   "source": [
    "## Confirm that reference cohort does not have any problems"
   ]
  },
  {
   "cell_type": "markdown",
   "metadata": {},
   "source": [
    "On the figure below you can see PCA analyses of Reference Cohort grouped by datasets. There are no batches in the pca_plot which indicates that the data has no problems."
   ]
  },
  {
   "cell_type": "markdown",
   "metadata": {},
   "source": [
    "![PCA of Reference](plots/pca_of_reference.svg)"
   ]
  },
  {
   "cell_type": "markdown",
   "metadata": {},
   "source": [
    "Here on the second figure below is presented the LME subtypes of each sample. Here also you can see that there are no batch effects in the reference cohort. Combining this two results we can be sure that the reference cohort data doesn't have any problems and can be used in the further analysis. "
   ]
  },
  {
   "cell_type": "markdown",
   "metadata": {},
   "source": [
    "![Referene pca grouped by LME](plots/pca_of_reference_grouped_by_LME.png)"
   ]
  },
  {
   "cell_type": "markdown",
   "metadata": {
    "tags": []
   },
   "source": [
    "## Load gene signatures"
   ]
  },
  {
   "cell_type": "markdown",
   "metadata": {},
   "source": [
    "Load gene signatures from the gene_signatures.gmt file"
   ]
  },
  {
   "cell_type": "code",
   "execution_count": 22,
   "metadata": {
    "tags": []
   },
   "outputs": [],
   "source": [
    "signatures = read_gene_sets(GENE_SIGNATURES)"
   ]
  },
  {
   "cell_type": "markdown",
   "metadata": {
    "tags": []
   },
   "source": [
    "# Preparation and QC of gene expression matrix"
   ]
  },
  {
   "cell_type": "markdown",
   "metadata": {},
   "source": [
    "## Read example data gene expression"
   ]
  },
  {
   "cell_type": "code",
   "execution_count": 23,
   "metadata": {
    "tags": []
   },
   "outputs": [
    {
     "data": {
      "text/plain": [
       "(55, 12)"
      ]
     },
     "execution_count": 23,
     "metadata": {},
     "output_type": "execute_result"
    }
   ],
   "source": [
    "expression_matrix_ann = read_dataset(SAMPLE_ANNOTATION)\n",
    "expression_matrix_ann.shape"
   ]
  },
  {
   "cell_type": "code",
   "execution_count": 24,
   "metadata": {
    "tags": []
   },
   "outputs": [
    {
     "data": {
      "text/html": [
       "<div>\n",
       "<style scoped>\n",
       "    .dataframe tbody tr th:only-of-type {\n",
       "        vertical-align: middle;\n",
       "    }\n",
       "\n",
       "    .dataframe tbody tr th {\n",
       "        vertical-align: top;\n",
       "    }\n",
       "\n",
       "    .dataframe thead th {\n",
       "        text-align: right;\n",
       "    }\n",
       "</style>\n",
       "<table border=\"1\" class=\"dataframe\">\n",
       "  <thead>\n",
       "    <tr style=\"text-align: right;\">\n",
       "      <th></th>\n",
       "      <th>Patient</th>\n",
       "      <th>Cohort</th>\n",
       "      <th>Cohort_group</th>\n",
       "      <th>Diagnosis</th>\n",
       "      <th>BAGS_class</th>\n",
       "      <th>CD79B_Status</th>\n",
       "      <th>EZH2_Status</th>\n",
       "      <th>MYD88_Status</th>\n",
       "      <th>COO</th>\n",
       "      <th>COO_BG</th>\n",
       "      <th>DHITsig</th>\n",
       "      <th>platform_id</th>\n",
       "    </tr>\n",
       "    <tr>\n",
       "      <th>Sample</th>\n",
       "      <th></th>\n",
       "      <th></th>\n",
       "      <th></th>\n",
       "      <th></th>\n",
       "      <th></th>\n",
       "      <th></th>\n",
       "      <th></th>\n",
       "      <th></th>\n",
       "      <th></th>\n",
       "      <th></th>\n",
       "      <th></th>\n",
       "      <th></th>\n",
       "    </tr>\n",
       "  </thead>\n",
       "  <tbody>\n",
       "    <tr>\n",
       "      <th>GSM1358939</th>\n",
       "      <td>H1</td>\n",
       "      <td>GSE56313</td>\n",
       "      <td>GSE56313</td>\n",
       "      <td>Diffuse_Large_B_Cell_Lymphoma</td>\n",
       "      <td>Centrocyte</td>\n",
       "      <td>WT</td>\n",
       "      <td>WT</td>\n",
       "      <td>WT</td>\n",
       "      <td>ABC</td>\n",
       "      <td>GCB</td>\n",
       "      <td>DHITsig-neg</td>\n",
       "      <td>GPL570</td>\n",
       "    </tr>\n",
       "    <tr>\n",
       "      <th>GSM1358940</th>\n",
       "      <td>H10</td>\n",
       "      <td>GSE56313</td>\n",
       "      <td>GSE56313</td>\n",
       "      <td>Diffuse_Large_B_Cell_Lymphoma</td>\n",
       "      <td>Unclassified</td>\n",
       "      <td>NaN</td>\n",
       "      <td>WT</td>\n",
       "      <td>NaN</td>\n",
       "      <td>ABC</td>\n",
       "      <td>ABC</td>\n",
       "      <td>DHITsig-neg</td>\n",
       "      <td>GPL570</td>\n",
       "    </tr>\n",
       "    <tr>\n",
       "      <th>GSM1358941</th>\n",
       "      <td>H11</td>\n",
       "      <td>GSE56313</td>\n",
       "      <td>GSE56313</td>\n",
       "      <td>Diffuse_Large_B_Cell_Lymphoma</td>\n",
       "      <td>Centroblast</td>\n",
       "      <td>NaN</td>\n",
       "      <td>WT</td>\n",
       "      <td>WT</td>\n",
       "      <td>GCB</td>\n",
       "      <td>GCB</td>\n",
       "      <td>DHITsig-neg</td>\n",
       "      <td>GPL570</td>\n",
       "    </tr>\n",
       "    <tr>\n",
       "      <th>GSM1358942</th>\n",
       "      <td>H12</td>\n",
       "      <td>GSE56313</td>\n",
       "      <td>GSE56313</td>\n",
       "      <td>Diffuse_Large_B_Cell_Lymphoma</td>\n",
       "      <td>Centrocyte</td>\n",
       "      <td>WT</td>\n",
       "      <td>WT</td>\n",
       "      <td>WT</td>\n",
       "      <td>GCB</td>\n",
       "      <td>GCB</td>\n",
       "      <td>DHITsig-neg</td>\n",
       "      <td>GPL570</td>\n",
       "    </tr>\n",
       "    <tr>\n",
       "      <th>GSM1358943</th>\n",
       "      <td>H13</td>\n",
       "      <td>GSE56313</td>\n",
       "      <td>GSE56313</td>\n",
       "      <td>Diffuse_Large_B_Cell_Lymphoma</td>\n",
       "      <td>Centroblast</td>\n",
       "      <td>WT</td>\n",
       "      <td>WT</td>\n",
       "      <td>WT</td>\n",
       "      <td>ABC</td>\n",
       "      <td>ABC</td>\n",
       "      <td>DHITsig-neg</td>\n",
       "      <td>GPL570</td>\n",
       "    </tr>\n",
       "  </tbody>\n",
       "</table>\n",
       "</div>"
      ],
      "text/plain": [
       "           Patient    Cohort Cohort_group                      Diagnosis  \\\n",
       "Sample                                                                     \n",
       "GSM1358939      H1  GSE56313     GSE56313  Diffuse_Large_B_Cell_Lymphoma   \n",
       "GSM1358940     H10  GSE56313     GSE56313  Diffuse_Large_B_Cell_Lymphoma   \n",
       "GSM1358941     H11  GSE56313     GSE56313  Diffuse_Large_B_Cell_Lymphoma   \n",
       "GSM1358942     H12  GSE56313     GSE56313  Diffuse_Large_B_Cell_Lymphoma   \n",
       "GSM1358943     H13  GSE56313     GSE56313  Diffuse_Large_B_Cell_Lymphoma   \n",
       "\n",
       "              BAGS_class CD79B_Status EZH2_Status MYD88_Status  COO COO_BG  \\\n",
       "Sample                                                                       \n",
       "GSM1358939    Centrocyte           WT          WT           WT  ABC    GCB   \n",
       "GSM1358940  Unclassified          NaN          WT          NaN  ABC    ABC   \n",
       "GSM1358941   Centroblast          NaN          WT           WT  GCB    GCB   \n",
       "GSM1358942    Centrocyte           WT          WT           WT  GCB    GCB   \n",
       "GSM1358943   Centroblast           WT          WT           WT  ABC    ABC   \n",
       "\n",
       "                DHITsig platform_id  \n",
       "Sample                               \n",
       "GSM1358939  DHITsig-neg      GPL570  \n",
       "GSM1358940  DHITsig-neg      GPL570  \n",
       "GSM1358941  DHITsig-neg      GPL570  \n",
       "GSM1358942  DHITsig-neg      GPL570  \n",
       "GSM1358943  DHITsig-neg      GPL570  "
      ]
     },
     "execution_count": 24,
     "metadata": {},
     "output_type": "execute_result"
    }
   ],
   "source": [
    "expression_matrix_ann.head()"
   ]
  },
  {
   "cell_type": "markdown",
   "metadata": {},
   "source": [
    "If your data is log2 transformed (mean expressions should be between 0 and 18) than you can proceed to QC section.\n",
    "If it is not log2 transforemd than run the code snippet provided below and procedd to QC section."
   ]
  },
  {
   "cell_type": "code",
   "execution_count": 25,
   "metadata": {
    "tags": []
   },
   "outputs": [],
   "source": [
    "expression_matrix = np.log2(1+read_dataset(SAMPLE_EXPRESSION).T)"
   ]
  },
  {
   "cell_type": "code",
   "execution_count": 26,
   "metadata": {
    "tags": []
   },
   "outputs": [
    {
     "data": {
      "text/html": [
       "<div>\n",
       "<style scoped>\n",
       "    .dataframe tbody tr th:only-of-type {\n",
       "        vertical-align: middle;\n",
       "    }\n",
       "\n",
       "    .dataframe tbody tr th {\n",
       "        vertical-align: top;\n",
       "    }\n",
       "\n",
       "    .dataframe thead th {\n",
       "        text-align: right;\n",
       "    }\n",
       "</style>\n",
       "<table border=\"1\" class=\"dataframe\">\n",
       "  <thead>\n",
       "    <tr style=\"text-align: right;\">\n",
       "      <th>Gene_symbol</th>\n",
       "      <th>A1BG</th>\n",
       "      <th>A1BG-AS1</th>\n",
       "      <th>A1CF</th>\n",
       "      <th>A2M</th>\n",
       "      <th>A2M-AS1</th>\n",
       "      <th>A2ML1</th>\n",
       "      <th>A2MP1</th>\n",
       "      <th>A4GALT</th>\n",
       "      <th>A4GNT</th>\n",
       "      <th>AA06</th>\n",
       "      <th>...</th>\n",
       "      <th>ZYX</th>\n",
       "      <th>ZZEF1</th>\n",
       "      <th>ZZZ3</th>\n",
       "      <th>abParts</th>\n",
       "      <th>av27s1</th>\n",
       "      <th>hADV36S1</th>\n",
       "      <th>hsa-let-7a-3</th>\n",
       "      <th>hsa-let-7b</th>\n",
       "      <th>hsa-mir-4763</th>\n",
       "      <th>mir-223</th>\n",
       "    </tr>\n",
       "  </thead>\n",
       "  <tbody>\n",
       "    <tr>\n",
       "      <th>GSM1358939</th>\n",
       "      <td>3.398629</td>\n",
       "      <td>3.229542</td>\n",
       "      <td>2.242460</td>\n",
       "      <td>8.975672</td>\n",
       "      <td>2.932449</td>\n",
       "      <td>2.340419</td>\n",
       "      <td>2.625855</td>\n",
       "      <td>4.157479</td>\n",
       "      <td>2.242557</td>\n",
       "      <td>2.410004</td>\n",
       "      <td>...</td>\n",
       "      <td>7.919923</td>\n",
       "      <td>7.535532</td>\n",
       "      <td>9.066579</td>\n",
       "      <td>4.544640</td>\n",
       "      <td>2.242722</td>\n",
       "      <td>2.411134</td>\n",
       "      <td>2.24246</td>\n",
       "      <td>2.24246</td>\n",
       "      <td>2.24246</td>\n",
       "      <td>4.002745</td>\n",
       "    </tr>\n",
       "    <tr>\n",
       "      <th>GSM1358940</th>\n",
       "      <td>2.242460</td>\n",
       "      <td>3.358790</td>\n",
       "      <td>2.242460</td>\n",
       "      <td>10.830553</td>\n",
       "      <td>3.451486</td>\n",
       "      <td>2.251113</td>\n",
       "      <td>2.242460</td>\n",
       "      <td>3.012059</td>\n",
       "      <td>2.242557</td>\n",
       "      <td>2.242460</td>\n",
       "      <td>...</td>\n",
       "      <td>8.337970</td>\n",
       "      <td>7.966719</td>\n",
       "      <td>9.343023</td>\n",
       "      <td>5.076570</td>\n",
       "      <td>2.242722</td>\n",
       "      <td>2.245702</td>\n",
       "      <td>2.24246</td>\n",
       "      <td>2.24246</td>\n",
       "      <td>2.24246</td>\n",
       "      <td>4.787586</td>\n",
       "    </tr>\n",
       "    <tr>\n",
       "      <th>GSM1358941</th>\n",
       "      <td>2.390763</td>\n",
       "      <td>3.895996</td>\n",
       "      <td>2.762986</td>\n",
       "      <td>9.225935</td>\n",
       "      <td>2.453358</td>\n",
       "      <td>2.242460</td>\n",
       "      <td>2.242460</td>\n",
       "      <td>3.308393</td>\n",
       "      <td>2.242557</td>\n",
       "      <td>2.517436</td>\n",
       "      <td>...</td>\n",
       "      <td>10.429838</td>\n",
       "      <td>8.965752</td>\n",
       "      <td>8.243231</td>\n",
       "      <td>4.823728</td>\n",
       "      <td>2.259413</td>\n",
       "      <td>2.587467</td>\n",
       "      <td>2.24246</td>\n",
       "      <td>2.24246</td>\n",
       "      <td>2.24246</td>\n",
       "      <td>4.002745</td>\n",
       "    </tr>\n",
       "    <tr>\n",
       "      <th>GSM1358942</th>\n",
       "      <td>2.390763</td>\n",
       "      <td>2.753845</td>\n",
       "      <td>2.242460</td>\n",
       "      <td>10.882917</td>\n",
       "      <td>2.980621</td>\n",
       "      <td>2.251113</td>\n",
       "      <td>2.242460</td>\n",
       "      <td>3.130747</td>\n",
       "      <td>2.242557</td>\n",
       "      <td>2.242460</td>\n",
       "      <td>...</td>\n",
       "      <td>8.937943</td>\n",
       "      <td>8.583962</td>\n",
       "      <td>8.718742</td>\n",
       "      <td>8.438893</td>\n",
       "      <td>2.242722</td>\n",
       "      <td>2.245702</td>\n",
       "      <td>2.24246</td>\n",
       "      <td>2.24246</td>\n",
       "      <td>2.24246</td>\n",
       "      <td>7.509161</td>\n",
       "    </tr>\n",
       "    <tr>\n",
       "      <th>GSM1358943</th>\n",
       "      <td>2.405299</td>\n",
       "      <td>3.218549</td>\n",
       "      <td>2.246557</td>\n",
       "      <td>9.335253</td>\n",
       "      <td>2.434799</td>\n",
       "      <td>2.435370</td>\n",
       "      <td>2.242460</td>\n",
       "      <td>3.539215</td>\n",
       "      <td>2.242557</td>\n",
       "      <td>2.242460</td>\n",
       "      <td>...</td>\n",
       "      <td>9.278991</td>\n",
       "      <td>7.003909</td>\n",
       "      <td>8.552902</td>\n",
       "      <td>5.163131</td>\n",
       "      <td>2.540013</td>\n",
       "      <td>3.346210</td>\n",
       "      <td>2.24246</td>\n",
       "      <td>2.24246</td>\n",
       "      <td>2.24246</td>\n",
       "      <td>5.609699</td>\n",
       "    </tr>\n",
       "  </tbody>\n",
       "</table>\n",
       "<p>5 rows × 24442 columns</p>\n",
       "</div>"
      ],
      "text/plain": [
       "Gene_symbol      A1BG  A1BG-AS1      A1CF        A2M   A2M-AS1     A2ML1  \\\n",
       "GSM1358939   3.398629  3.229542  2.242460   8.975672  2.932449  2.340419   \n",
       "GSM1358940   2.242460  3.358790  2.242460  10.830553  3.451486  2.251113   \n",
       "GSM1358941   2.390763  3.895996  2.762986   9.225935  2.453358  2.242460   \n",
       "GSM1358942   2.390763  2.753845  2.242460  10.882917  2.980621  2.251113   \n",
       "GSM1358943   2.405299  3.218549  2.246557   9.335253  2.434799  2.435370   \n",
       "\n",
       "Gene_symbol     A2MP1    A4GALT     A4GNT      AA06  ...        ZYX     ZZEF1  \\\n",
       "GSM1358939   2.625855  4.157479  2.242557  2.410004  ...   7.919923  7.535532   \n",
       "GSM1358940   2.242460  3.012059  2.242557  2.242460  ...   8.337970  7.966719   \n",
       "GSM1358941   2.242460  3.308393  2.242557  2.517436  ...  10.429838  8.965752   \n",
       "GSM1358942   2.242460  3.130747  2.242557  2.242460  ...   8.937943  8.583962   \n",
       "GSM1358943   2.242460  3.539215  2.242557  2.242460  ...   9.278991  7.003909   \n",
       "\n",
       "Gene_symbol      ZZZ3   abParts    av27s1  hADV36S1  hsa-let-7a-3  hsa-let-7b  \\\n",
       "GSM1358939   9.066579  4.544640  2.242722  2.411134       2.24246     2.24246   \n",
       "GSM1358940   9.343023  5.076570  2.242722  2.245702       2.24246     2.24246   \n",
       "GSM1358941   8.243231  4.823728  2.259413  2.587467       2.24246     2.24246   \n",
       "GSM1358942   8.718742  8.438893  2.242722  2.245702       2.24246     2.24246   \n",
       "GSM1358943   8.552902  5.163131  2.540013  3.346210       2.24246     2.24246   \n",
       "\n",
       "Gene_symbol  hsa-mir-4763   mir-223  \n",
       "GSM1358939        2.24246  4.002745  \n",
       "GSM1358940        2.24246  4.787586  \n",
       "GSM1358941        2.24246  4.002745  \n",
       "GSM1358942        2.24246  7.509161  \n",
       "GSM1358943        2.24246  5.609699  \n",
       "\n",
       "[5 rows x 24442 columns]"
      ]
     },
     "execution_count": 26,
     "metadata": {},
     "output_type": "execute_result"
    }
   ],
   "source": [
    "expression_matrix.head()"
   ]
  },
  {
   "cell_type": "markdown",
   "metadata": {
    "tags": []
   },
   "source": [
    "## Quality check for the example data"
   ]
  },
  {
   "cell_type": "markdown",
   "metadata": {},
   "source": [
    "The Quality Check (QC) section identifies batches, outliers, and assesses the expression data distribution and after each check it saves the generated plot in the Plots folder for your further use.\n",
    "\n",
    "We will provide examples of both bad and good datasets, which will help you differentiate them visually and understand the types of possible data quality issues that may affect downstream analyses."
   ]
  },
  {
   "cell_type": "markdown",
   "metadata": {},
   "source": [
    "Creating a Plots direcotry to save all of the generated plots."
   ]
  },
  {
   "cell_type": "code",
   "execution_count": 27,
   "metadata": {},
   "outputs": [],
   "source": [
    "os.mkdir('Plots')"
   ]
  },
  {
   "cell_type": "markdown",
   "metadata": {},
   "source": [
    "### Batch effect detection"
   ]
  },
  {
   "cell_type": "markdown",
   "metadata": {},
   "source": [
    "This section is responsible for identifying any potential batch effects in the analyzed data using UMAP and PCA analyses. The results of these analyses are plotted to visualize any potential batches in the data.\n",
    "\n",
    "If you are not familiar with batch effects follow [this link](https://towardsdatascience.com/batcheffectsc71c886ca9c5)"
   ]
  },
  {
   "cell_type": "markdown",
   "metadata": {},
   "source": [
    "Below is an example of a sample check results for the presence of batch effects using the UMAP analysis. Two plots have been generated to visualize possible analysis results. The plot on the right shows an example of a dataset with no identified issues, whereas the plot on the left exhibits potential batch effects.\n",
    "\n",
    "You can see that the plot on the right shows two distinct clusters of data points that are grouped quite far from each other. This is indicative of the presence of a potential batch effect.\n",
    "\n",
    "If your data plot resembles the one on the right, remove any identified batch effects to ensure accurate and reliable results.\n",
    "\n",
    "[Here are the instructions for batch effect removal](https://github.com/chichaumiau/removeBatcheffect)"
   ]
  },
  {
   "cell_type": "markdown",
   "metadata": {},
   "source": [
    "![Umap plot example](plots/umap_example.svg)"
   ]
  },
  {
   "cell_type": "markdown",
   "metadata": {},
   "source": [
    "Generate umap_plot for our input data\n"
   ]
  },
  {
   "cell_type": "code",
   "execution_count": 28,
   "metadata": {
    "tags": []
   },
   "outputs": [
    {
     "data": {
      "image/png": "[encoded data removed]",
      "text/plain": [
       "<Figure size 768x576 with 1 Axes>"
      ]
     },
     "metadata": {},
     "output_type": "display_data"
    }
   ],
   "source": [
    "# Generate umap_plot for the input data\n",
    "fig_umap, axes_umap = plt.subplots()\n",
    "\n",
    "umap_plot(expression_matrix, legend = 'Out',ax = axes_umap)\n",
    "\n",
    "# Saving the generated umap plot into a picture.\n",
    "fig_umap.savefig('Plots/umap_batches.svg')"
   ]
  },
  {
   "cell_type": "markdown",
   "metadata": {},
   "source": [
    "### Batch detection by PCA"
   ]
  },
  {
   "cell_type": "markdown",
   "metadata": {
    "tags": []
   },
   "source": [
    "To further enhance the significance of our analysis, we plot PCA of our data to ensure that it is free from any batch effects.\n",
    "\n",
    "An illustrative example is provided below, where it is clear that the presence of batches is reflected in the plot on the left as two distinct groups of data points that are far from each other. In contrast, a normal dataset appears as a single group of data points that are relatively close to each other, as reflected in the PCA plot.\n",
    "\n",
    "This step is essential to ensure that our data is free from any systematic variation that could confound our analyses, and to ensure that any observed effects are biologically meaningful."
   ]
  },
  {
   "cell_type": "markdown",
   "metadata": {},
   "source": [
    "![PCA plot of examples](plots/pca_batches_example_colored.svg)"
   ]
  },
  {
   "cell_type": "markdown",
   "metadata": {},
   "source": [
    "Generate the pca plot for the annotated_expressions."
   ]
  },
  {
   "cell_type": "code",
   "execution_count": 53,
   "metadata": {
    "tags": []
   },
   "outputs": [
    {
     "data": {
      "image/png": "[encoded data removed]",
      "text/plain": [
       "<Figure size 768x576 with 1 Axes>"
      ]
     },
     "metadata": {},
     "output_type": "display_data"
    }
   ],
   "source": [
    "# Generate the pca plot for the annotated_expressions\n",
    "\n",
    "fig_pca_batches, ax_pca_batches = plt.subplots()\n",
    "\n",
    "pca_plot(expression_matrix, legend = 'out',ax = ax_pca_batches)\n",
    "\n",
    "# Saving the generated pca plot into a picture.\n",
    "fig_pca_batches.savefig('Plots/pca_batches.svg')"
   ]
  },
  {
   "cell_type": "markdown",
   "metadata": {},
   "source": [
    "### Outlier detection"
   ]
  },
  {
   "cell_type": "markdown",
   "metadata": {},
   "source": [
    "The purpose of this section is to identify outliers in the annotated_expression data through PCA plots."
   ]
  },
  {
   "cell_type": "markdown",
   "metadata": {},
   "source": [
    "Below is an illustrative example of data outliers.\n",
    "In the plot on the left, two points lie far away from the main group of data points, indicating the presence of outliers in the dataset. In contrast, the data points in the plot on the right lie relatively close to each other, with no outliers detected.\n",
    "\n",
    "To get detailed information on data outliers, follow this [link](https://www.geeksforgeeks.org/detect-and-remove-the-outliers-using-python/)"
   ]
  },
  {
   "cell_type": "markdown",
   "metadata": {},
   "source": [
    "![Pca plot with data that has/does not have outliers](plots/pca_outliers_example.svg)"
   ]
  },
  {
   "cell_type": "markdown",
   "metadata": {},
   "source": [
    "The code cell below generates a PCA plot of the annotated_expression data where sample IDs are located in the row positions, which facilitates dimension reduction based on samples. This plot can help identify any possible data outliers."
   ]
  },
  {
   "cell_type": "code",
   "execution_count": 54,
   "metadata": {
    "tags": []
   },
   "outputs": [
    {
     "data": {
      "image/png": "[encoded data removed]",
      "text/plain": [
       "<Figure size 768x576 with 1 Axes>"
      ]
     },
     "metadata": {},
     "output_type": "display_data"
    }
   ],
   "source": [
    "# Generate pca plot for annotated_expression to find outliers\n",
    "\n",
    "fig_pca_outliers,ax_pca_outliers = plt.subplots()\n",
    "\n",
    "pca_plot(expression_matrix, legend= None, ax= ax_pca_outliers)\n",
    "\n",
    "# Saving the generated pca plot into a picture.\n",
    "fig.savefig('Plots/pca_outliers.svg')"
   ]
  },
  {
   "cell_type": "markdown",
   "metadata": {},
   "source": [
    "If the pca_plot of your data suggests the analyzed data contain outliers, remove the outlying points from your dataset."
   ]
  },
  {
   "cell_type": "markdown",
   "metadata": {},
   "source": [
    "### Data distribution check"
   ]
  },
  {
   "cell_type": "markdown",
   "metadata": {},
   "source": [
    "Data distribution check\n",
    "\n",
    "This is the final section of the QC, where data quality is checked based on its distribution.\n",
    "\n",
    "As with the previous sections, an example of two gene expression datasets is provided below, with one exhibiting a good-quality dataset and the other exhibiting a poor-quality dataset, as indicated by their respective distribution plots.\n",
    "\n",
    "In the plot on the right, the expression values start off very low and then rise before dropping down. This pattern suggests potential RNA degradation, which can compromise the reliability and accuracy of downstream analyses. In contrast, the distribution plot on the left shows good-quality gene expression data.\n",
    "Deviations from such distributions may indicate gene degradation, should be carefully investigated and, if necessary, corrected to ensure high-quality data.\n",
    "\n",
    "If your data plot shows distribution of a good quality data, you can proceed with the analyses. If it resembles the one on the right, then your data is probably abnormal and might have RNA degradation. In the case of RNA degradation,  do not proceed with the analyses and choose a new dataset."
   ]
  },
  {
   "cell_type": "markdown",
   "metadata": {},
   "source": [
    "![Data distribution example](plots/distplot_example.svg)"
   ]
  },
  {
   "cell_type": "markdown",
   "metadata": {},
   "source": [
    "The code snippet provided generates a visualization of the distribution of annotated expression values. This type of data visualization is useful for identifying trends and patterns in gene expression data and can aid in the quality control and preprocessing of the data."
   ]
  },
  {
   "cell_type": "code",
   "execution_count": 56,
   "metadata": {
    "tags": []
   },
   "outputs": [
    {
     "data": {
      "image/png": "[encoded data removed]",
      "text/plain": [
       "<Figure size 768x576 with 1 Axes>"
      ]
     },
     "metadata": {},
     "output_type": "display_data"
    }
   ],
   "source": [
    "# Generating distribution plot\n",
    "\n",
    "fig_dist, ax_dist = plt.subplots()\n",
    "\n",
    "sns.distplot(expression_matrix.mean(), kde = True)\n",
    "\n",
    "# Saving the generated distribution plot into a picture.\n",
    "fig_dist.savefig('Plots/distribution.svg')"
   ]
  },
  {
   "cell_type": "markdown",
   "metadata": {},
   "source": [
    "If you have successfully passed all of the QC tests, you can move to the next step. If there are any data issues, fix them before proceeding to the next step as they can affect the results of the analyses."
   ]
  },
  {
   "cell_type": "markdown",
   "metadata": {
    "tags": []
   },
   "source": [
    "# Classification of SAMPLE_EXPRESSION"
   ]
  },
  {
   "cell_type": "markdown",
   "metadata": {},
   "source": [
    "1. Create a KNeighborsClusterClassifier model and learn it to predict LME subtypes based on TCGA reference cohort\n",
    "2. Load gene signatures from gmt file.\n",
    "3. Calculate signature ssGSEA scores and PROGENy scores. We use our own ssGSEA formula. The ssGSEA scores matrix should have the samples as rows and signatures in columns.\n",
    "4. Perform median scaling on the ssGSEA scores. Median scaling helps to:\n",
    "   * Have all of the data in one interval to compare them easily\n",
    "   * Remove the effect of extreme values on prediction\n",
    "   * Have biased model performance\n",
    "5. Pass the ssGSEA scores to the KNN model to predict the LME-subtype for each sample."
   ]
  },
  {
   "cell_type": "markdown",
   "metadata": {},
   "source": [
    "## Create a KNN model based on reference cohort"
   ]
  },
  {
   "cell_type": "code",
   "execution_count": 32,
   "metadata": {
    "tags": []
   },
   "outputs": [
    {
     "data": {
      "text/plain": [
       "(4656, 32)"
      ]
     },
     "execution_count": 32,
     "metadata": {},
     "output_type": "execute_result"
    }
   ],
   "source": [
    "cohort_ann_filtered = cohort_ann[(cohort_ann.Diagnosis=='Diffuse_Large_B_Cell_Lymphoma') & \n",
    "                                 (~cohort_ann.LME.isna())]\n",
    "cohort_ann_filtered.shape"
   ]
  },
  {
   "cell_type": "code",
   "execution_count": 33,
   "metadata": {
    "tags": []
   },
   "outputs": [],
   "source": [
    "LME_MODEL = KNeighborsClusterClassifier(norm=False, scale=False, clip=3, k=35).fit(\n",
    "    *to_common_samples([cohort_signatures_scaled[signatures_selected + progeny_selected], cohort_ann_filtered.LME]))"
   ]
  },
  {
   "cell_type": "code",
   "execution_count": 34,
   "metadata": {
    "tags": []
   },
   "outputs": [
    {
     "data": {
      "text/plain": [
       "<lme.classification.KNeighborsClusterClassifier at 0x7fac93c9b970>"
      ]
     },
     "execution_count": 34,
     "metadata": {},
     "output_type": "execute_result"
    }
   ],
   "source": [
    "LME_MODEL"
   ]
  },
  {
   "cell_type": "markdown",
   "metadata": {
    "tags": []
   },
   "source": [
    "## Calculate ssGSEA and PROGENy scores of signatures"
   ]
  },
  {
   "cell_type": "markdown",
   "metadata": {},
   "source": [
    "Calculate ssgsea and progeny scores. \n",
    "Concatenate both results to each other."
   ]
  },
  {
   "cell_type": "code",
   "execution_count": 35,
   "metadata": {
    "tags": []
   },
   "outputs": [
    {
     "data": {
      "text/plain": [
       "27"
      ]
     },
     "execution_count": 35,
     "metadata": {},
     "output_type": "execute_result"
    }
   ],
   "source": [
    "x = ssgsea_formula(expression_matrix, signatures)\n",
    "len(signatures)"
   ]
  },
  {
   "cell_type": "code",
   "execution_count": 36,
   "metadata": {
    "tags": []
   },
   "outputs": [],
   "source": [
    "ssgsea_scores = ssgsea_formula(expression_matrix, signatures)\n",
    "progeny_scores = run_progeny(expression_matrix)"
   ]
  },
  {
   "cell_type": "code",
   "execution_count": 37,
   "metadata": {
    "tags": []
   },
   "outputs": [
    {
     "data": {
      "text/plain": [
       "(55, 41)"
      ]
     },
     "execution_count": 37,
     "metadata": {},
     "output_type": "execute_result"
    }
   ],
   "source": [
    "signatures_calculated = pd.concat([ssgsea_scores, progeny_scores], axis=1)\n",
    "signatures_calculated.shape"
   ]
  },
  {
   "cell_type": "code",
   "execution_count": 38,
   "metadata": {
    "tags": []
   },
   "outputs": [
    {
     "data": {
      "text/html": [
       "<div>\n",
       "<style scoped>\n",
       "    .dataframe tbody tr th:only-of-type {\n",
       "        vertical-align: middle;\n",
       "    }\n",
       "\n",
       "    .dataframe tbody tr th {\n",
       "        vertical-align: top;\n",
       "    }\n",
       "\n",
       "    .dataframe thead th {\n",
       "        text-align: right;\n",
       "    }\n",
       "</style>\n",
       "<table border=\"1\" class=\"dataframe\">\n",
       "  <thead>\n",
       "    <tr style=\"text-align: right;\">\n",
       "      <th></th>\n",
       "      <th>Lymphatic_endothelium</th>\n",
       "      <th>Angiogenesis</th>\n",
       "      <th>CAF</th>\n",
       "      <th>Fibroblastic_reticular_cells</th>\n",
       "      <th>Matrix</th>\n",
       "      <th>Matrix_remodeling</th>\n",
       "      <th>Granulocyte_traffic</th>\n",
       "      <th>Protumor_cytokines</th>\n",
       "      <th>Follicular_dendritic_cells</th>\n",
       "      <th>Macrophages</th>\n",
       "      <th>...</th>\n",
       "      <th>JAK-STAT</th>\n",
       "      <th>MAPK</th>\n",
       "      <th>NFkB</th>\n",
       "      <th>PI3K</th>\n",
       "      <th>TGFb</th>\n",
       "      <th>TNFa</th>\n",
       "      <th>Trail</th>\n",
       "      <th>VEGF</th>\n",
       "      <th>WNT</th>\n",
       "      <th>p53</th>\n",
       "    </tr>\n",
       "  </thead>\n",
       "  <tbody>\n",
       "    <tr>\n",
       "      <th>GSM1358939</th>\n",
       "      <td>-160.876254</td>\n",
       "      <td>896.872755</td>\n",
       "      <td>3919.711386</td>\n",
       "      <td>3689.651433</td>\n",
       "      <td>5876.870836</td>\n",
       "      <td>5117.140715</td>\n",
       "      <td>-2061.804719</td>\n",
       "      <td>3645.144760</td>\n",
       "      <td>3993.136722</td>\n",
       "      <td>1754.957862</td>\n",
       "      <td>...</td>\n",
       "      <td>6079.960648</td>\n",
       "      <td>1095.099634</td>\n",
       "      <td>5896.664394</td>\n",
       "      <td>-2819.694663</td>\n",
       "      <td>1646.742262</td>\n",
       "      <td>5841.041201</td>\n",
       "      <td>121.156252</td>\n",
       "      <td>-351.990797</td>\n",
       "      <td>386.750766</td>\n",
       "      <td>3335.329043</td>\n",
       "    </tr>\n",
       "    <tr>\n",
       "      <th>GSM1358940</th>\n",
       "      <td>2185.034275</td>\n",
       "      <td>2575.990926</td>\n",
       "      <td>4826.591712</td>\n",
       "      <td>5182.149349</td>\n",
       "      <td>6670.413278</td>\n",
       "      <td>6930.909019</td>\n",
       "      <td>-301.631037</td>\n",
       "      <td>4075.105078</td>\n",
       "      <td>6624.723233</td>\n",
       "      <td>1939.012559</td>\n",
       "      <td>...</td>\n",
       "      <td>6579.714463</td>\n",
       "      <td>1069.881426</td>\n",
       "      <td>6011.486202</td>\n",
       "      <td>-2802.103041</td>\n",
       "      <td>1821.945534</td>\n",
       "      <td>6000.588490</td>\n",
       "      <td>114.289349</td>\n",
       "      <td>-362.913911</td>\n",
       "      <td>395.411393</td>\n",
       "      <td>3228.722225</td>\n",
       "    </tr>\n",
       "    <tr>\n",
       "      <th>GSM1358941</th>\n",
       "      <td>-440.063110</td>\n",
       "      <td>1277.589174</td>\n",
       "      <td>4691.090399</td>\n",
       "      <td>4818.726509</td>\n",
       "      <td>6714.593309</td>\n",
       "      <td>7485.075341</td>\n",
       "      <td>-2614.745564</td>\n",
       "      <td>3601.739387</td>\n",
       "      <td>5935.233492</td>\n",
       "      <td>114.513259</td>\n",
       "      <td>...</td>\n",
       "      <td>5488.651978</td>\n",
       "      <td>1279.928709</td>\n",
       "      <td>5633.632101</td>\n",
       "      <td>-2693.907177</td>\n",
       "      <td>1824.552162</td>\n",
       "      <td>5646.854135</td>\n",
       "      <td>96.903704</td>\n",
       "      <td>-324.242911</td>\n",
       "      <td>374.021116</td>\n",
       "      <td>3328.312248</td>\n",
       "    </tr>\n",
       "    <tr>\n",
       "      <th>GSM1358942</th>\n",
       "      <td>631.707180</td>\n",
       "      <td>1861.778047</td>\n",
       "      <td>6457.318986</td>\n",
       "      <td>5706.337687</td>\n",
       "      <td>7626.186603</td>\n",
       "      <td>8535.359424</td>\n",
       "      <td>-1466.839608</td>\n",
       "      <td>3701.799906</td>\n",
       "      <td>3746.375372</td>\n",
       "      <td>2354.974009</td>\n",
       "      <td>...</td>\n",
       "      <td>5765.952875</td>\n",
       "      <td>1236.627929</td>\n",
       "      <td>5777.963537</td>\n",
       "      <td>-2744.846346</td>\n",
       "      <td>2085.213090</td>\n",
       "      <td>5884.520618</td>\n",
       "      <td>66.714042</td>\n",
       "      <td>-435.153794</td>\n",
       "      <td>392.913515</td>\n",
       "      <td>3299.599816</td>\n",
       "    </tr>\n",
       "    <tr>\n",
       "      <th>GSM1358943</th>\n",
       "      <td>1217.914505</td>\n",
       "      <td>1565.561173</td>\n",
       "      <td>3574.439413</td>\n",
       "      <td>3625.067635</td>\n",
       "      <td>5339.923651</td>\n",
       "      <td>6208.988263</td>\n",
       "      <td>-1880.800201</td>\n",
       "      <td>3230.314962</td>\n",
       "      <td>6074.992741</td>\n",
       "      <td>313.402573</td>\n",
       "      <td>...</td>\n",
       "      <td>5829.559431</td>\n",
       "      <td>1096.409014</td>\n",
       "      <td>5416.434101</td>\n",
       "      <td>-2784.548138</td>\n",
       "      <td>1694.701682</td>\n",
       "      <td>5533.012806</td>\n",
       "      <td>89.985699</td>\n",
       "      <td>-298.601421</td>\n",
       "      <td>392.335983</td>\n",
       "      <td>3138.276436</td>\n",
       "    </tr>\n",
       "  </tbody>\n",
       "</table>\n",
       "<p>5 rows × 41 columns</p>\n",
       "</div>"
      ],
      "text/plain": [
       "            Lymphatic_endothelium  Angiogenesis          CAF  \\\n",
       "GSM1358939            -160.876254    896.872755  3919.711386   \n",
       "GSM1358940            2185.034275   2575.990926  4826.591712   \n",
       "GSM1358941            -440.063110   1277.589174  4691.090399   \n",
       "GSM1358942             631.707180   1861.778047  6457.318986   \n",
       "GSM1358943            1217.914505   1565.561173  3574.439413   \n",
       "\n",
       "            Fibroblastic_reticular_cells       Matrix  Matrix_remodeling  \\\n",
       "GSM1358939                   3689.651433  5876.870836        5117.140715   \n",
       "GSM1358940                   5182.149349  6670.413278        6930.909019   \n",
       "GSM1358941                   4818.726509  6714.593309        7485.075341   \n",
       "GSM1358942                   5706.337687  7626.186603        8535.359424   \n",
       "GSM1358943                   3625.067635  5339.923651        6208.988263   \n",
       "\n",
       "            Granulocyte_traffic  Protumor_cytokines  \\\n",
       "GSM1358939         -2061.804719         3645.144760   \n",
       "GSM1358940          -301.631037         4075.105078   \n",
       "GSM1358941         -2614.745564         3601.739387   \n",
       "GSM1358942         -1466.839608         3701.799906   \n",
       "GSM1358943         -1880.800201         3230.314962   \n",
       "\n",
       "            Follicular_dendritic_cells  Macrophages  ...     JAK-STAT  \\\n",
       "GSM1358939                 3993.136722  1754.957862  ...  6079.960648   \n",
       "GSM1358940                 6624.723233  1939.012559  ...  6579.714463   \n",
       "GSM1358941                 5935.233492   114.513259  ...  5488.651978   \n",
       "GSM1358942                 3746.375372  2354.974009  ...  5765.952875   \n",
       "GSM1358943                 6074.992741   313.402573  ...  5829.559431   \n",
       "\n",
       "                   MAPK         NFkB         PI3K         TGFb         TNFa  \\\n",
       "GSM1358939  1095.099634  5896.664394 -2819.694663  1646.742262  5841.041201   \n",
       "GSM1358940  1069.881426  6011.486202 -2802.103041  1821.945534  6000.588490   \n",
       "GSM1358941  1279.928709  5633.632101 -2693.907177  1824.552162  5646.854135   \n",
       "GSM1358942  1236.627929  5777.963537 -2744.846346  2085.213090  5884.520618   \n",
       "GSM1358943  1096.409014  5416.434101 -2784.548138  1694.701682  5533.012806   \n",
       "\n",
       "                 Trail        VEGF         WNT          p53  \n",
       "GSM1358939  121.156252 -351.990797  386.750766  3335.329043  \n",
       "GSM1358940  114.289349 -362.913911  395.411393  3228.722225  \n",
       "GSM1358941   96.903704 -324.242911  374.021116  3328.312248  \n",
       "GSM1358942   66.714042 -435.153794  392.913515  3299.599816  \n",
       "GSM1358943   89.985699 -298.601421  392.335983  3138.276436  \n",
       "\n",
       "[5 rows x 41 columns]"
      ]
     },
     "execution_count": 38,
     "metadata": {},
     "output_type": "execute_result"
    }
   ],
   "source": [
    "signatures_calculated.head()"
   ]
  },
  {
   "cell_type": "markdown",
   "metadata": {},
   "source": [
    "Generate distribution plot for the signatures."
   ]
  },
  {
   "cell_type": "code",
   "execution_count": 39,
   "metadata": {
    "tags": []
   },
   "outputs": [
    {
     "data": {
      "text/plain": [
       "<matplotlib.legend.Legend at 0x7fac939a0eb0>"
      ]
     },
     "execution_count": 39,
     "metadata": {},
     "output_type": "execute_result"
    },
    {
     "data": {
      "image/png": "[encoded data removed]",
      "text/plain": [
       "<Figure size 768x576 with 1 Axes>"
      ]
     },
     "metadata": {},
     "output_type": "display_data"
    }
   ],
   "source": [
    "_, ax = plt.subplots(1, 1)\n",
    "for i in signatures_calculated.columns[:4]:\n",
    "    sns.distplot(signatures_calculated[i], label=i, ax=ax, kde=True)\n",
    "ax.legend()"
   ]
  },
  {
   "cell_type": "markdown",
   "metadata": {},
   "source": [
    "Scale signatures to improve accuracy and to faciliate visualisation."
   ]
  },
  {
   "cell_type": "code",
   "execution_count": 40,
   "metadata": {
    "tags": []
   },
   "outputs": [
    {
     "data": {
      "text/plain": [
       "(55, 41)"
      ]
     },
     "execution_count": 40,
     "metadata": {},
     "output_type": "execute_result"
    }
   ],
   "source": [
    "signatures_scaled = median_scale(signatures_calculated, 3)\n",
    "signatures_scaled.shape"
   ]
  },
  {
   "cell_type": "code",
   "execution_count": 41,
   "metadata": {
    "tags": []
   },
   "outputs": [
    {
     "data": {
      "text/html": [
       "<div>\n",
       "<style scoped>\n",
       "    .dataframe tbody tr th:only-of-type {\n",
       "        vertical-align: middle;\n",
       "    }\n",
       "\n",
       "    .dataframe tbody tr th {\n",
       "        vertical-align: top;\n",
       "    }\n",
       "\n",
       "    .dataframe thead th {\n",
       "        text-align: right;\n",
       "    }\n",
       "</style>\n",
       "<table border=\"1\" class=\"dataframe\">\n",
       "  <thead>\n",
       "    <tr style=\"text-align: right;\">\n",
       "      <th></th>\n",
       "      <th>Lymphatic_endothelium</th>\n",
       "      <th>Angiogenesis</th>\n",
       "      <th>CAF</th>\n",
       "      <th>Fibroblastic_reticular_cells</th>\n",
       "      <th>Matrix</th>\n",
       "      <th>Matrix_remodeling</th>\n",
       "      <th>Granulocyte_traffic</th>\n",
       "      <th>Protumor_cytokines</th>\n",
       "      <th>Follicular_dendritic_cells</th>\n",
       "      <th>Macrophages</th>\n",
       "      <th>...</th>\n",
       "      <th>JAK-STAT</th>\n",
       "      <th>MAPK</th>\n",
       "      <th>NFkB</th>\n",
       "      <th>PI3K</th>\n",
       "      <th>TGFb</th>\n",
       "      <th>TNFa</th>\n",
       "      <th>Trail</th>\n",
       "      <th>VEGF</th>\n",
       "      <th>WNT</th>\n",
       "      <th>p53</th>\n",
       "    </tr>\n",
       "  </thead>\n",
       "  <tbody>\n",
       "    <tr>\n",
       "      <th>GSM1358939</th>\n",
       "      <td>-1.436759</td>\n",
       "      <td>-1.344182</td>\n",
       "      <td>-0.747056</td>\n",
       "      <td>-1.252811</td>\n",
       "      <td>-0.827535</td>\n",
       "      <td>-1.515633</td>\n",
       "      <td>-0.178132</td>\n",
       "      <td>-0.583759</td>\n",
       "      <td>-1.941545</td>\n",
       "      <td>-0.344663</td>\n",
       "      <td>...</td>\n",
       "      <td>-1.159207</td>\n",
       "      <td>-1.039683</td>\n",
       "      <td>-0.225652</td>\n",
       "      <td>-0.463819</td>\n",
       "      <td>-1.096586</td>\n",
       "      <td>-0.261157</td>\n",
       "      <td>0.284551</td>\n",
       "      <td>0.067274</td>\n",
       "      <td>-1.032242</td>\n",
       "      <td>0.591873</td>\n",
       "    </tr>\n",
       "    <tr>\n",
       "      <th>GSM1358940</th>\n",
       "      <td>1.972933</td>\n",
       "      <td>1.578868</td>\n",
       "      <td>0.182446</td>\n",
       "      <td>0.337655</td>\n",
       "      <td>-0.049585</td>\n",
       "      <td>0.202221</td>\n",
       "      <td>1.554106</td>\n",
       "      <td>0.008779</td>\n",
       "      <td>0.264053</td>\n",
       "      <td>-0.183658</td>\n",
       "      <td>...</td>\n",
       "      <td>0.000000</td>\n",
       "      <td>-1.545051</td>\n",
       "      <td>0.083240</td>\n",
       "      <td>-0.191182</td>\n",
       "      <td>0.212244</td>\n",
       "      <td>0.211701</td>\n",
       "      <td>-0.116696</td>\n",
       "      <td>-0.211603</td>\n",
       "      <td>-0.332650</td>\n",
       "      <td>-0.567286</td>\n",
       "    </tr>\n",
       "    <tr>\n",
       "      <th>GSM1358941</th>\n",
       "      <td>-1.842546</td>\n",
       "      <td>-0.681422</td>\n",
       "      <td>0.043564</td>\n",
       "      <td>-0.049623</td>\n",
       "      <td>-0.006273</td>\n",
       "      <td>0.727082</td>\n",
       "      <td>-0.722297</td>\n",
       "      <td>-0.643577</td>\n",
       "      <td>-0.313825</td>\n",
       "      <td>-1.779664</td>\n",
       "      <td>...</td>\n",
       "      <td>-2.530780</td>\n",
       "      <td>2.664249</td>\n",
       "      <td>-0.933257</td>\n",
       "      <td>1.485650</td>\n",
       "      <td>0.231716</td>\n",
       "      <td>-0.836680</td>\n",
       "      <td>-1.132575</td>\n",
       "      <td>0.775703</td>\n",
       "      <td>-2.060522</td>\n",
       "      <td>0.515578</td>\n",
       "    </tr>\n",
       "    <tr>\n",
       "      <th>GSM1358942</th>\n",
       "      <td>-0.284769</td>\n",
       "      <td>0.335549</td>\n",
       "      <td>1.853851</td>\n",
       "      <td>0.896251</td>\n",
       "      <td>0.887409</td>\n",
       "      <td>1.721826</td>\n",
       "      <td>0.407390</td>\n",
       "      <td>-0.505681</td>\n",
       "      <td>-2.148362</td>\n",
       "      <td>0.180210</td>\n",
       "      <td>...</td>\n",
       "      <td>-1.887565</td>\n",
       "      <td>1.796511</td>\n",
       "      <td>-0.544979</td>\n",
       "      <td>0.696189</td>\n",
       "      <td>2.178944</td>\n",
       "      <td>-0.132295</td>\n",
       "      <td>-2.896619</td>\n",
       "      <td>-2.055953</td>\n",
       "      <td>-0.534425</td>\n",
       "      <td>0.203381</td>\n",
       "    </tr>\n",
       "    <tr>\n",
       "      <th>GSM1358943</th>\n",
       "      <td>0.567261</td>\n",
       "      <td>-0.180113</td>\n",
       "      <td>-1.100941</td>\n",
       "      <td>-1.321634</td>\n",
       "      <td>-1.353932</td>\n",
       "      <td>-0.481524</td>\n",
       "      <td>0.000000</td>\n",
       "      <td>-1.155446</td>\n",
       "      <td>-0.196689</td>\n",
       "      <td>-1.605683</td>\n",
       "      <td>...</td>\n",
       "      <td>-1.740026</td>\n",
       "      <td>-1.013444</td>\n",
       "      <td>-1.517560</td>\n",
       "      <td>0.080886</td>\n",
       "      <td>-0.738312</td>\n",
       "      <td>-1.174078</td>\n",
       "      <td>-1.536808</td>\n",
       "      <td>1.430353</td>\n",
       "      <td>-0.581077</td>\n",
       "      <td>-1.550723</td>\n",
       "    </tr>\n",
       "  </tbody>\n",
       "</table>\n",
       "<p>5 rows × 41 columns</p>\n",
       "</div>"
      ],
      "text/plain": [
       "            Lymphatic_endothelium  Angiogenesis       CAF  \\\n",
       "GSM1358939              -1.436759     -1.344182 -0.747056   \n",
       "GSM1358940               1.972933      1.578868  0.182446   \n",
       "GSM1358941              -1.842546     -0.681422  0.043564   \n",
       "GSM1358942              -0.284769      0.335549  1.853851   \n",
       "GSM1358943               0.567261     -0.180113 -1.100941   \n",
       "\n",
       "            Fibroblastic_reticular_cells    Matrix  Matrix_remodeling  \\\n",
       "GSM1358939                     -1.252811 -0.827535          -1.515633   \n",
       "GSM1358940                      0.337655 -0.049585           0.202221   \n",
       "GSM1358941                     -0.049623 -0.006273           0.727082   \n",
       "GSM1358942                      0.896251  0.887409           1.721826   \n",
       "GSM1358943                     -1.321634 -1.353932          -0.481524   \n",
       "\n",
       "            Granulocyte_traffic  Protumor_cytokines  \\\n",
       "GSM1358939            -0.178132           -0.583759   \n",
       "GSM1358940             1.554106            0.008779   \n",
       "GSM1358941            -0.722297           -0.643577   \n",
       "GSM1358942             0.407390           -0.505681   \n",
       "GSM1358943             0.000000           -1.155446   \n",
       "\n",
       "            Follicular_dendritic_cells  Macrophages  ...  JAK-STAT      MAPK  \\\n",
       "GSM1358939                   -1.941545    -0.344663  ... -1.159207 -1.039683   \n",
       "GSM1358940                    0.264053    -0.183658  ...  0.000000 -1.545051   \n",
       "GSM1358941                   -0.313825    -1.779664  ... -2.530780  2.664249   \n",
       "GSM1358942                   -2.148362     0.180210  ... -1.887565  1.796511   \n",
       "GSM1358943                   -0.196689    -1.605683  ... -1.740026 -1.013444   \n",
       "\n",
       "                NFkB      PI3K      TGFb      TNFa     Trail      VEGF  \\\n",
       "GSM1358939 -0.225652 -0.463819 -1.096586 -0.261157  0.284551  0.067274   \n",
       "GSM1358940  0.083240 -0.191182  0.212244  0.211701 -0.116696 -0.211603   \n",
       "GSM1358941 -0.933257  1.485650  0.231716 -0.836680 -1.132575  0.775703   \n",
       "GSM1358942 -0.544979  0.696189  2.178944 -0.132295 -2.896619 -2.055953   \n",
       "GSM1358943 -1.517560  0.080886 -0.738312 -1.174078 -1.536808  1.430353   \n",
       "\n",
       "                 WNT       p53  \n",
       "GSM1358939 -1.032242  0.591873  \n",
       "GSM1358940 -0.332650 -0.567286  \n",
       "GSM1358941 -2.060522  0.515578  \n",
       "GSM1358942 -0.534425  0.203381  \n",
       "GSM1358943 -0.581077 -1.550723  \n",
       "\n",
       "[5 rows x 41 columns]"
      ]
     },
     "execution_count": 41,
     "metadata": {},
     "output_type": "execute_result"
    }
   ],
   "source": [
    "signatures_scaled.head()"
   ]
  },
  {
   "cell_type": "markdown",
   "metadata": {},
   "source": [
    "Generate distribution plots for already scaled signature values."
   ]
  },
  {
   "cell_type": "code",
   "execution_count": 59,
   "metadata": {
    "scrolled": true,
    "tags": []
   },
   "outputs": [
    {
     "data": {
      "image/png": "[encoded data removed]",
      "text/plain": [
       "<Figure size 768x576 with 1 Axes>"
      ]
     },
     "metadata": {},
     "output_type": "display_data"
    }
   ],
   "source": [
    "# generating distribution plots for already scaled signature values\n",
    "\n",
    "fig, ax = plt.subplots(1, 1)\n",
    "for i in signatures_scaled.columns[:4]:\n",
    "    sns.distplot(signatures_scaled[i], label=i, ax=ax, kde=True)\n",
    "ax.legend()\n",
    "\n",
    "# Saving the generated distribution plots into a picture.\n",
    "fig.savefig('Plots/scaled_data_distribution.svg')"
   ]
  },
  {
   "cell_type": "markdown",
   "metadata": {},
   "source": [
    "Below are provided several boxplots to make it easier to understand the corresponding signature scores for each subtype.\n",
    "In this two examples we chose the Follicluar dendritic cells and proliferation rate but you can change them to the signatures that you are interseted in to analyze."
   ]
  },
  {
   "cell_type": "code",
   "execution_count": 68,
   "metadata": {},
   "outputs": [],
   "source": [
    "signature = signatures_scaled.Follicular_dendritic_cells"
   ]
  },
  {
   "cell_type": "code",
   "execution_count": 69,
   "metadata": {
    "tags": []
   },
   "outputs": [
    {
     "data": {
      "image/png": "[encoded data removed]",
      "text/plain": [
       "<Figure size 768x576 with 1 Axes>"
      ]
     },
     "metadata": {},
     "output_type": "display_data"
    }
   ],
   "source": [
    "fig_signature_boxplot, ax_signature_boxplot = plt.subplots()\n",
    "\n",
    "sns.boxplot(y=signature, x=expression_matrix_ann.BAGS_class, fliersize=0, ax= ax_signature_boxplot)\n",
    "sns.swarmplot(y=signature, x=expression_matrix_ann.BAGS_class, s=5, color='.25', ax= ax_signature_boxplot)\n",
    "\n",
    "# Save the generated boxplot into a picture\n",
    "fig_signature_boxplot.savefig('Plots/Follicular_dendritic_cells_boxplot.svg')"
   ]
  },
  {
   "cell_type": "code",
   "execution_count": null,
   "metadata": {
    "tags": []
   },
   "outputs": [],
   "source": [
    "fig_signature_boxplot, ax_signature_boxplot = plt.subplots()\n",
    "\n",
    "signature = signatures_scaled.Proliferation_rate\n",
    "sns.boxplot(y=signature, x=expression_matrix_ann.BAGS_class, fliersize=0, ax= ax_signature_boxplot)\n",
    "sns.swarmplot(y=signature, x=expression_matrix_ann.BAGS_class, s=5, color='.25', ax= ax_signature_boxplot)\n",
    "\n",
    "# Save the generated boxplot into a picture\n",
    "fig_signature_boxplot.savefig('Plots/proliferation_boxplot.svg')"
   ]
  },
  {
   "cell_type": "markdown",
   "metadata": {
    "tags": []
   },
   "source": [
    "## Classify the samples"
   ]
  },
  {
   "cell_type": "code",
   "execution_count": 46,
   "metadata": {
    "tags": []
   },
   "outputs": [],
   "source": [
    "lme_predicted = LME_MODEL.predict(signatures_scaled[LME_MODEL.X.columns]).rename('LME')"
   ]
  },
  {
   "cell_type": "code",
   "execution_count": 47,
   "metadata": {
    "tags": []
   },
   "outputs": [
    {
     "data": {
      "text/plain": [
       "pandas.core.series.Series"
      ]
     },
     "execution_count": 47,
     "metadata": {},
     "output_type": "execute_result"
    }
   ],
   "source": [
    "type(lme_predicted)"
   ]
  },
  {
   "cell_type": "code",
   "execution_count": 60,
   "metadata": {
    "tags": []
   },
   "outputs": [
    {
     "data": {
      "image/png": "[encoded data removed]",
      "text/plain": [
       "<Figure size 768x576 with 1 Axes>"
      ]
     },
     "metadata": {},
     "output_type": "display_data"
    }
   ],
   "source": [
    "tme_palette = {\"IE\": '#0000CC', \"IE/F\": '#009999', \"F\": '#CC0033', \"D\": '#FF9900'}\n",
    "\n",
    "fig_pie_plot, ax_pie_plot = plt.subplots()\n",
    "\n",
    "vector_pie_plot(lme_predicted,palette=lme_p, ax= ax_pie_plot)\n",
    "\n",
    "# Saving the generated pie plot into a picture.\n",
    "fig_pie_plot.savefig('Plots/classified_samples_percentage.svg')"
   ]
  },
  {
   "cell_type": "markdown",
   "metadata": {},
   "source": [
    "Here you can see the COO subtypes of DLBCL for each LME subtype sample"
   ]
  },
  {
   "cell_type": "code",
   "execution_count": 49,
   "metadata": {
    "tags": []
   },
   "outputs": [
    {
     "data": {
      "text/html": [
       "<div>\n",
       "<style scoped>\n",
       "    .dataframe tbody tr th:only-of-type {\n",
       "        vertical-align: middle;\n",
       "    }\n",
       "\n",
       "    .dataframe tbody tr th {\n",
       "        vertical-align: top;\n",
       "    }\n",
       "\n",
       "    .dataframe thead th {\n",
       "        text-align: right;\n",
       "    }\n",
       "</style>\n",
       "<table border=\"1\" class=\"dataframe\">\n",
       "  <thead>\n",
       "    <tr style=\"text-align: right;\">\n",
       "      <th>LME</th>\n",
       "      <th>LME-GC</th>\n",
       "      <th>LME-ME</th>\n",
       "      <th>LME-IN</th>\n",
       "      <th>LME-DE</th>\n",
       "    </tr>\n",
       "    <tr>\n",
       "      <th>COO_BG</th>\n",
       "      <th></th>\n",
       "      <th></th>\n",
       "      <th></th>\n",
       "      <th></th>\n",
       "    </tr>\n",
       "  </thead>\n",
       "  <tbody>\n",
       "    <tr>\n",
       "      <th>ABC</th>\n",
       "      <td>6</td>\n",
       "      <td>4</td>\n",
       "      <td>7</td>\n",
       "      <td>6</td>\n",
       "    </tr>\n",
       "    <tr>\n",
       "      <th>GCB</th>\n",
       "      <td>8</td>\n",
       "      <td>12</td>\n",
       "      <td>6</td>\n",
       "      <td>6</td>\n",
       "    </tr>\n",
       "  </tbody>\n",
       "</table>\n",
       "</div>"
      ],
      "text/plain": [
       "LME     LME-GC  LME-ME  LME-IN  LME-DE\n",
       "COO_BG                                \n",
       "ABC          6       4       7       6\n",
       "GCB          8      12       6       6"
      ]
     },
     "execution_count": 49,
     "metadata": {},
     "output_type": "execute_result"
    }
   ],
   "source": [
    "pd.crosstab(expression_matrix_ann.COO_BG, lme_predicted)[lme_o]"
   ]
  },
  {
   "cell_type": "code",
   "execution_count": 50,
   "metadata": {
    "scrolled": true,
    "tags": []
   },
   "outputs": [
    {
     "data": {
      "text/plain": [
       "55"
      ]
     },
     "execution_count": 50,
     "metadata": {},
     "output_type": "execute_result"
    }
   ],
   "source": [
    "so = list(pd.concat([expression_matrix_ann.COO_BG[expression_matrix_ann.COO_BG==i] for i in ['GCB', 'ABC']]).index)\n",
    "so = list(pd.concat([lme_predicted.loc[so][lme_predicted.loc[so]==i] for i in lme_o]).index)\n",
    "len(so)"
   ]
  },
  {
   "cell_type": "markdown",
   "metadata": {},
   "source": [
    "Below is the last part of the whole analysis  where you are provided with the gene signatures heatmap with the corresponding LME subtypes which is also divided into 2 subtypes of COO DLBCL."
   ]
  },
  {
   "cell_type": "markdown",
   "metadata": {},
   "source": [
    "To make it easier to see meaning of each color in the heatmap below you can see the color pallete for each type of the lymphoma"
   ]
  },
  {
   "cell_type": "code",
   "execution_count": 51,
   "metadata": {},
   "outputs": [
    {
     "data": {
      "text/plain": [
       "<AxesSubplot:>"
      ]
     },
     "execution_count": 51,
     "metadata": {},
     "output_type": "execute_result"
    },
    {
     "data": {
      "image/png": "[encoded data removed]",
      "text/plain": [
       "<Figure size 30x144 with 1 Axes>"
      ]
     },
     "metadata": {},
     "output_type": "display_data"
    },
    {
     "data": {
      "image/png": "[encoded data removed]",
      "text/plain": [
       "<Figure size 30x108 with 1 Axes>"
      ]
     },
     "metadata": {},
     "output_type": "display_data"
    }
   ],
   "source": [
    "patch_plot(lme_p, order=lme_o)\n",
    "patch_plot(dlbcl_subtype_p)"
   ]
  },
  {
   "cell_type": "code",
   "execution_count": 62,
   "metadata": {
    "tags": []
   },
   "outputs": [
    {
     "data": {
      "image/png": "[encoded data removed]",
      "text/plain": [
       "<Figure size 1680x792 with 3 Axes>"
      ]
     },
     "metadata": {},
     "output_type": "display_data"
    }
   ],
   "source": [
    "af = axis_matras([.3, .3, 6], x_len=14)\n",
    "\n",
    "ax = next(af)\n",
    "line_palette_annotation_plot(lme_predicted[so], ax=ax, palette=lme_p)\n",
    "\n",
    "ax = next(af)\n",
    "line_palette_annotation_plot(expression_matrix_ann.COO_BG[so], ax=ax, palette=dlbcl_subtype_p)\n",
    "\n",
    "ax = next(af)\n",
    "sns.heatmap(signatures_scaled.loc[so, signatures_selected + progeny_selected + ['JAK-STAT', 'Trail']].clip(-2, 2).T,\n",
    "            yticklabels=True, xticklabels=False, cbar=False, cmap=plt.cm.coolwarm, ax=ax)\n",
    "plt.tight_layout(pad=.1)\n",
    "\n",
    "# Saving the generated heatmap plot into a picture.\n",
    "ax.figure.savefig('Plots/signatures_heatmap.svg')"
   ]
  },
  {
   "cell_type": "code",
   "execution_count": null,
   "metadata": {},
   "outputs": [],
   "source": []
  },
  {
   "cell_type": "code",
   "execution_count": null,
   "metadata": {},
   "outputs": [],
   "source": []
  }
 ],
 "metadata": {
  "kernelspec": {
   "display_name": "QA3.10-common",
   "language": "python",
   "name": "qa3.10-common"
  },
  "language_info": {
   "codemirror_mode": {
    "name": "ipython",
    "version": 3
   },
   "file_extension": ".py",
   "mimetype": "text/x-python",
   "name": "python",
   "nbconvert_exporter": "python",
   "pygments_lexer": "ipython3",
   "version": "3.10.6"
  },
  "toc": {
   "base_numbering": 1,
   "nav_menu": {},
   "number_sections": true,
   "sideBar": true,
   "skip_h1_title": false,
   "title_cell": "Table of Contents",
   "title_sidebar": "Contents",
   "toc_cell": false,
   "toc_position": {
    "height": "calc(100% - 180px)",
    "left": "10px",
    "top": "150px",
    "width": "384px"
   },
   "toc_section_display": true,
   "toc_window_display": true
  }
 },
 "nbformat": 4,
 "nbformat_minor": 4
}
